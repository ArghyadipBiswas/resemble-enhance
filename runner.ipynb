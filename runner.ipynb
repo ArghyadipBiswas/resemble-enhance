# Install Necessary Libraries
!apt update && apt install -y ffmpeg git 
!git clone https://github.com/ArghyadipBiswas/resemble-enhance
%cd resemble-enhance
!pip install -r requirements.txt

#Run
!python app.py
