{
  "nbformat": 4,
  "nbformat_minor": 0,
  "metadata": {
    "colab": {
      "provenance": [],
      "include_colab_link": true,
      "gpu": true
    },
    "kernelspec": {
      "name": "python3",
      "display_name": "Python 3"
    }
  },
  "cells": [
    {
      "cell_type": "markdown",
      "metadata": {
        "id": "view-in-github",
        "colab_type": "text"
      },
      "source": [
        "<a href=\"https://colab.research.google.com/github/ArghyadipBiswas/resemble-enhance/blob/main/runner.ipynb\" target=\"_parent\"><img src=\"https://colab.research.google.com/assets/colab-badge.svg\" alt=\"Open In Colab\"/></a>"
      ]
    },
    {
      "cell_type": "code",
      "metadata": {
        "id": "Install-requirements",
        "colab_type": "code"
      },
      "source": [
        "# @title Install requirements\n",
        "!apt update && apt install -y ffmpeg git\n",
        "!git clone https://github.com/ArghyadipBiswas/resemble-enhance\n",
        "%cd resemble-enhance\n",
        "!pip install -r requirements.txt"
      ],
      "execution_count": null,
      "outputs": []
    },
    {
      "cell_type": "code",
      "metadata": {
        "id": "RUN-THE-WEB-APP",
        "colab_type": "code"
      },
      "source": [
        "# @markdown # `RUN THE WEB APP`\n",
        "!python app.py"
      ],
      "execution_count": null,
      "outputs": []
    },
    {
      "cell_type": "markdown",
      "metadata": {
        "id": "public-url-instructions",
        "colab_type": "text"
      },
      "source": [
        "Open the `public URL` when it appears"
      ]
    }
  ]
}
