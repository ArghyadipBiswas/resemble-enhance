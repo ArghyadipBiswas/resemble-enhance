      "source": [
        "<a href=\"https://colab.research.google.com/github/ArghyadipBiswas/resemble-enhance/blob/main/runner.ipynb\" target=\"_parent\"><img src=\"https://colab.research.google.com/assets/colab-badge.svg\" alt=\"Open In Colab\"/></a>"
      ]


# Install Necessary Libraries
!apt update && apt install -y ffmpeg git 
!git clone https://github.com/ArghyadipBiswas/resemble-enhance
%cd resemble-enhance
!pip install -r requirements.txt

#Run
!python app.py
